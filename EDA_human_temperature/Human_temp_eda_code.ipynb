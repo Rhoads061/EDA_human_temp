{
 "cells": [
  {
   "cell_type": "markdown",
   "metadata": {},
   "source": [
    "# What is the True Normal Human Body Temperature? \n",
    "\n",
    "#### Background\n",
    "\n",
    "The mean normal body temperature was held to be 37$^{\\circ}$C or 98.6$^{\\circ}$F for more than 120 years since it was first conceptualized and reported by Carl Wunderlich in a famous 1868 book. But, is this value statistically correct?"
   ]
  },
  {
   "cell_type": "markdown",
   "metadata": {},
   "source": [
    "<h3>Exercises</h3>\n",
    "\n",
    "<p>In this exercise, you will analyze a dataset of human body temperatures and employ the concepts of hypothesis testing, confidence intervals, and statistical significance.</p>\n",
    "\n",
    "<p>Answer the following questions <b>in this notebook below and submit to your Github account</b>.</p> \n",
    "\n",
    "<ol>\n",
    "<li>  Is the distribution of body temperatures normal? \n",
    "    <ul>\n",
    "    <li> Although this is not a requirement for the Central Limit Theorem to hold (read the introduction on Wikipedia's page about the CLT carefully: https://en.wikipedia.org/wiki/Central_limit_theorem), it gives us some peace of mind that the population may also be normally distributed if we assume that this sample is representative of the population.\n",
    "    <li> Think about the way you're going to check for the normality of the distribution. Graphical methods are usually used first, but there are also other ways: https://en.wikipedia.org/wiki/Normality_test\n",
    "    </ul>\n",
    "<li>  Is the sample size large? Are the observations independent?\n",
    "    <ul>\n",
    "    <li> Remember that this is a condition for the Central Limit Theorem, and hence the statistical tests we are using, to apply.\n",
    "    </ul>\n",
    "<li>  Is the true population mean really 98.6 degrees F?\n",
    "    <ul>\n",
    "    <li> First, try a bootstrap hypothesis test.\n",
    "    <li> Now, let's try frequentist statistical testing. Would you use a one-sample or two-sample test? Why?\n",
    "    <li> In this situation, is it appropriate to use the $t$ or $z$ statistic? \n",
    "    <li> Now try using the other test. How is the result be different? Why?\n",
    "    </ul>\n",
    "<li>  Draw a small sample of size 10 from the data and repeat both frequentist tests. \n",
    "    <ul>\n",
    "    <li> Which one is the correct one to use? \n",
    "    <li> What do you notice? What does this tell you about the difference in application of the $t$ and $z$ statistic?\n",
    "    </ul>\n",
    "<li>  At what temperature should we consider someone's temperature to be \"abnormal\"?\n",
    "    <ul>\n",
    "    <li> As in the previous example, try calculating everything using the boostrap approach, as well as the frequentist approach.\n",
    "    <li> Start by computing the margin of error and confidence interval. When calculating the confidence interval, keep in mind that you should use the appropriate formula for one draw, and not N draws.\n",
    "    </ul>\n",
    "<li>  Is there a significant difference between males and females in normal temperature?\n",
    "    <ul>\n",
    "    <li> What testing approach did you use and why?\n",
    "    <li> Write a story with your conclusion in the context of the original problem.\n",
    "    </ul>\n",
    "</ol>\n",
    "\n",
    "You can include written notes in notebook cells using Markdown: \n",
    "   - In the control panel at the top, choose Cell > Cell Type > Markdown\n",
    "   - Markdown syntax: http://nestacms.com/docs/creating-content/markdown-cheat-sheet\n",
    "\n",
    "#### Resources\n",
    "\n",
    "+ Information and data sources: http://www.amstat.org/publications/jse/datasets/normtemp.txt, http://www.amstat.org/publications/jse/jse_data_archive.htm\n",
    "+ Markdown syntax: http://nestacms.com/docs/creating-content/markdown-cheat-sheet\n",
    "\n",
    "****"
   ]
  },
  {
   "cell_type": "code",
   "execution_count": null,
   "metadata": {},
   "outputs": [],
   "source": []
  },
  {
   "cell_type": "code",
   "execution_count": 1,
   "metadata": {},
   "outputs": [
    {
     "data": {
      "text/plain": [
       "<Figure size 640x480 with 2 Axes>"
      ]
     },
     "metadata": {},
     "output_type": "display_data"
    },
    {
     "name": "stdout",
     "output_type": "stream",
     "text": [
      "('the mean:', 98.25905511811027, 'the std:', 0.6643237796733381, 0.7331831580389456)\n"
     ]
    }
   ],
   "source": [
    "import pandas as pd\n",
    "import numpy as np\n",
    "import matplotlib.pyplot as plt\n",
    "import seaborn as sns\n",
    "from scipy import stats\n",
    "POP_MEAN=98.6\n",
    "np.random.seed(42)\n",
    "df = pd.read_csv('data/human_body_temperature.csv')\n",
    "#perform initial EDA by Graphing swarm plot. Looks like there may be some outliers \n",
    "#_=sns.boxplot( y='temperature', data= df)\n",
    "ndf=df\n",
    "\n",
    "ndf=ndf[(ndf.temperature>96.5) ]\n",
    "ndf=ndf[(ndf.temperature<100.5)]\n",
    "plt.subplot(1,2,1)\n",
    "_=sns.boxplot( y='temperature', data= ndf)\n",
    "plt.subplot(1,2,2)\n",
    "_=sns.boxplot( y='temperature', data= df)\n",
    "plt.show()\n",
    "\n",
    "print('the mean:', ndf.temperature.mean(), 'the std:',  ndf.temperature.std(), df.temperature.std())\n",
    "\n",
    "#The outliers have a pretty sigificant effect on the std so we are better off without outliers"
   ]
  },
  {
   "cell_type": "markdown",
   "metadata": {},
   "source": [
    "First We check for Normality. We will do this graphically by creating a cdf. If the cdf of our data overlaps with a sample we create to mimic the normal distribution, we will know that our data is normal."
   ]
  },
  {
   "cell_type": "code",
   "execution_count": 2,
   "metadata": {},
   "outputs": [
    {
     "data": {
      "image/png": "[encoded data removed]",
      "text/plain": [
       "<Figure size 432x288 with 1 Axes>"
      ]
     },
     "metadata": {
      "needs_background": "light"
     },
     "output_type": "display_data"
    }
   ],
   "source": [
    "# Create ecdf function to test normality. If the functions overlap than the distribution will appear to be normal\n",
    "def ecdf(data):\n",
    "    data= np.array(data)\n",
    "    n=float(len(data))\n",
    "    x=np.sort(data)\n",
    "    y=np.arange(1,n+1)/n\n",
    "    return x, y\n",
    "x_temp,y_temp= ecdf(ndf.temperature)\n",
    "#find mean and std so we can sample a normal distribution with similar characteristics \n",
    "mean= ndf['temperature'].mean()\n",
    "std= ndf['temperature'].std()\n",
    "samples= np.random.normal(mean,std, size= 10000)\n",
    "x_theor, y_theor= ecdf(samples)\n",
    "_=plt.plot(x_theor, y_theor, color='red')\n",
    "_=plt.plot(x_temp, y_temp , linestyle='none', marker='.')\n",
    "_=plt.xlim((96.2, 101 ))\n",
    "_=plt.xlabel ('Body Temp (F)')\n",
    "_=plt.ylabel('CDF')\n",
    "\n",
    "plt.show()\n",
    "\n",
    "#The curves overlap well so I am confident the distribution is normal\n",
    "#With 128 observations that appear to be independent, I am confident the Central Limit Theorem holds"
   ]
  },
  {
   "cell_type": "markdown",
   "metadata": {},
   "source": [
    "The data appears to be normal. A general rule of thumb is that more than 30 observations is an aptly large sample so with over 100 we should be fine."
   ]
  },
  {
   "cell_type": "markdown",
   "metadata": {},
   "source": [
    "Next, we establish a hypothesis test to see if our mean is significantly different then that of the population"
   ]
  },
  {
   "cell_type": "code",
   "execution_count": 3,
   "metadata": {},
   "outputs": [
    {
     "name": "stdout",
     "output_type": "stream",
     "text": [
      "('The p value is ', 0.6771653543307087)\n"
     ]
    }
   ],
   "source": [
    "# h0 is mean= 98.6 h1 is mean != 98.6. h0= The true mean of our sample is 98.6. \n",
    "#The test stat will be the difference between the mean and the pop. mean\n",
    "\n",
    "#create a varibale for the observed difference for later comparison\n",
    "obs=mean-POP_MEAN\n",
    "#shift the temerature by the pop mean for sampling. \n",
    "temp_shifted= np.array(ndf['temperature']-mean+POP_MEAN)\n",
    "bs_sam= np.random.choice(temp_shifted, size=(len(temp_shifted)))\n",
    "#compute the p value. The logic being, if the difference in the samples is greater than \n",
    "p= np.sum(np.abs(bs_sam-POP_MEAN)>=np.abs(obs))/float(len(bs_sam))\n",
    "print('The p value is ', p)\n",
    "#The p value is around 65% which suggests we cannot reject the null according to the bootstrap test. \n"
   ]
  },
  {
   "cell_type": "markdown",
   "metadata": {},
   "source": [
    "Next we do a similar analysis but this time with the t-test"
   ]
  },
  {
   "cell_type": "code",
   "execution_count": 4,
   "metadata": {
    "scrolled": true
   },
   "outputs": [
    {
     "name": "stdout",
     "output_type": "stream",
     "text": [
      "('the tstat is: ', -5.783706384348704, 'the p value is: ', 5.442748024045431e-08)\n"
     ]
    }
   ],
   "source": [
    "# A one sample test is pertinent because the established population mean. \n",
    "\n",
    "\n",
    "tstat, p_val= stats.ttest_1samp(ndf['temperature'], POP_MEAN)\n",
    "\n",
    "print('the tstat is: ', tstat, 'the p value is: ', p_val)\n",
    "#The p value is exordinarily low. One of these numbers is certainly incorrect. \n",
    "#This p value would have us reject the null"
   ]
  },
  {
   "cell_type": "markdown",
   "metadata": {},
   "source": [
    "The test revealed vastly different p values. I am more inclined to trust the bootstrappig method because t-tests typically work better when the sample size is smaller"
   ]
  },
  {
   "cell_type": "code",
   "execution_count": 5,
   "metadata": {},
   "outputs": [
    {
     "data": {
      "text/plain": [
       "-0.5132209508703358"
      ]
     },
     "execution_count": 5,
     "metadata": {},
     "output_type": "execute_result"
    }
   ],
   "source": [
    "z_score = (mean-POP_MEAN)/std\n",
    "z_score\n",
    "#With a z score of -.51 about 39% of the normal distribution is extreme to the same amount. \n",
    "#This would cause us not to reject the nul\n"
   ]
  },
  {
   "cell_type": "markdown",
   "metadata": {},
   "source": [
    "The large difference in p values is once again suspicious. The z test closely aligns with the result of the bootstrap test. This is due to the large number of samples conforming to a normal distribution."
   ]
  },
  {
   "cell_type": "code",
   "execution_count": 12,
   "metadata": {
    "scrolled": true
   },
   "outputs": [
    {
     "name": "stdout",
     "output_type": "stream",
     "text": [
      "('the tstat for the small sample is: ', -0.6348110542726619, 'the p value of the small sample, according to the t-test is:', 0.5413512976457331)\n",
      "('the z score was:', -0.21160368475755398, 'meaning the pvalue is about 54%, although the reading vary alot')\n"
     ]
    }
   ],
   "source": [
    "#For a small sample size, the t stat is perferrable because it is more effective in smallr samples\n",
    "\n",
    "\n",
    "small_sam= np.random.choice(ndf['temperature'], size= 10)\n",
    "tstat_small, p_val_small= stats.ttest_1samp(small_sam, POP_MEAN)\n",
    "z_score_small= (small_sam.mean()-POP_MEAN)/small_sam.std()\n",
    "print('the tstat for the small sample is: ', tstat_small, 'the p value of the small sample, according to the t-test is:',\n",
    "       p_val_small)\n",
    "print('the z score was:' ,z_score_small, 'meaning the pvalue is about 54%, although the reading vary alot')\n"
   ]
  },
  {
   "cell_type": "markdown",
   "metadata": {},
   "source": [
    "With such a small sample I would definetely use the t-stat, but even with the t-stat the p value varies significantly. This is the issue with small sample sizes"
   ]
  },
  {
   "cell_type": "code",
   "execution_count": 11,
   "metadata": {},
   "outputs": [
    {
     "name": "stdout",
     "output_type": "stream",
     "text": [
      "('frequentist method shows the 95% confidence interval is between', 98.14351468018067, 'and', 98.37459555603986)\n",
      "('bootstrapping shows the 95% confidence interval is between', 96.915, 'and', 99.4)\n"
     ]
    }
   ],
   "source": [
    "#Statistically abnormal is a value outside of the 95% confidence interval\n",
    "#The first way we will check with the standard error. By computing the standard error and multiplying\n",
    "#it by the appropriate z score, you get the difference between the mean and edge of your interval.\n",
    "\n",
    "error= (std/(np.sqrt(len(ndf.temperature))))*1.96\n",
    "#The second way we will check the CI is by simply finding the interval in our oown data\n",
    "lower_bound, upper_bound= np.percentile(ndf.temperature ,(2.5 ,97.5))\n",
    "print('frequentist method shows the 95% confidence interval is between'\n",
    "      , mean-error, 'and', mean+error)\n",
    "print('bootstrapping shows the 95% confidence interval is between', lower_bound, 'and',upper_bound  )\n"
   ]
  },
  {
   "cell_type": "markdown",
   "metadata": {},
   "source": [
    "The second method produces a wider interval. This suggests that while the variance is low,but the numbers are well distributed throughout"
   ]
  },
  {
   "cell_type": "markdown",
   "metadata": {},
   "source": [
    "I felt that bootstrap sample was the best way to solve this problem because I was able to generate a large number of simulations to build a more robust data set"
   ]
  },
  {
   "cell_type": "code",
   "execution_count": 13,
   "metadata": {},
   "outputs": [
    {
     "name": "stdout",
     "output_type": "stream",
     "text": [
      "('the p value  is', 0.008, 'which means our results are significant at a 5% level')\n"
     ]
    }
   ],
   "source": [
    "\n",
    "#h0 is that men and women have the same range of body temeratures\n",
    "\n",
    "def bootstrap_replicate(data, func):\n",
    "    data= np.array(data)\n",
    "    return func(np.random.choice(data, size=len(data)))\n",
    "\n",
    "def draw_bs_reps(data, func, size=1):\n",
    "    bs_replicates = np.empty(size)\n",
    "    for i in range(size):\n",
    "        bs_replicates[i] = bootstrap_replicate(data, func)\n",
    "    return bs_replicates\n",
    "\n",
    "                     \n",
    "male= df[df.gender=='M']\n",
    "female= df[df.gender=='F']\n",
    "male= np.array(male.temperature)\n",
    "female= np.array(female.temperature) \n",
    "diff= np.mean(male)-np.mean(female)\n",
    "male_shift=male-np.mean(male)+np.mean(df.temperature)\n",
    "female_shift=female-np.mean(female)+np.mean(df.temperature)\n",
    "male_bs_sample= draw_bs_reps(male_shift, np.mean, size=1000)\n",
    "female_bs_sample= draw_bs_reps(female_shift, np.mean, size=1000)\n",
    "p_val_gender=np.sum(male_bs_sample-female_bs_sample<= diff)/float(len(male_bs_sample))\n",
    "print('the p value  is', p_val_gender, 'which means our results are significant at a 5% level')\n"
   ]
  },
  {
   "cell_type": "markdown",
   "metadata": {},
   "source": [
    "The p value is low meaning we can reject the null that mean and women have the same body temperature"
   ]
  },
  {
   "cell_type": "code",
   "execution_count": null,
   "metadata": {},
   "outputs": [],
   "source": []
  },
  {
   "cell_type": "code",
   "execution_count": null,
   "metadata": {},
   "outputs": [],
   "source": [
    "\n"
   ]
  },
  {
   "cell_type": "code",
   "execution_count": null,
   "metadata": {},
   "outputs": [],
   "source": []
  }
 ],
 "metadata": {
  "kernelspec": {
   "display_name": "Python 2",
   "language": "python",
   "name": "python2"
  },
  "language_info": {
   "codemirror_mode": {
    "name": "ipython",
    "version": 2
   },
   "file_extension": ".py",
   "mimetype": "text/x-python",
   "name": "python",
   "nbconvert_exporter": "python",
   "pygments_lexer": "ipython2",
   "version": "2.7.15"
  }
 },
 "nbformat": 4,
 "nbformat_minor": 1
}
